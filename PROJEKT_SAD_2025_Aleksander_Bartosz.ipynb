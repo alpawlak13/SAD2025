{
 "cells": [
  {
   "cell_type": "markdown",
   "metadata": {
    "id": "OWFeGFtqUTru"
   },
   "source": [
    "# **<mark>SAD 2025 - projekt zaliczeniowy</mark>**\n",
    "### Studia podyplomowe\n",
    "### Sztuczna Inteligencja i automatyzacja procesów biznesowych w ujęciu praktycznym\n",
    "### Wykonali: **Aleksander Pawlak, Bartosz Giernalczyk**"
   ]
  },
  {
   "cell_type": "markdown",
   "metadata": {
    "id": "gpfzdvnEVFpv"
   },
   "source": [
    "# <mark>**Wprowadzenie**</mark>\n",
    "#### **Na jaki zbiór danych patrzysz?**\n",
    "\n",
    "Lokalizacja zbioru danych na Kaggle:\n",
    "https://www.kaggle.com/datasets/jsphyg/weather-dataset-rattle-package/data\n",
    "\n",
    "Zbiór danych nazywa się „**Rain in Australia**”, znany też jako **weatherAUS.csv**.\n",
    "<p>WeatherAUS to dziesięcioletnia (lata 2007-2017) seria dziennych obserwacji pogody z wielu stacji meteorologicznych w Australii.</p>\n",
    "\n",
    "#### **Gdzie/jak został utworzony?**\n",
    "Dane pochodzą z Australian Bureau of Meteorology (http://www.bom.gov.au/climate/data).\n",
    "\n",
    "#### **Jakie pytania będą zadawane?**\n",
    "Najczęstsze cele analizy tego zbioru to:\n",
    "\n",
    "* **Klasyfikacja**: czy jutro będzie padać? (*główna zmienna zależna* **RainTomorrow**, wartości Yes/No)\n",
    "* **Regresja**: jeśli tak, to jaka ilość opadu? (zmienna RISK_MM)\n",
    "\n",
    "Można też analizować:\n",
    "\n",
    "* Zależności między temperaturą, wilgotnością, prędkością i kierunkiem wiatru a opadami.\n",
    "* Tworzyć modele predykcyjne od drzew decyzyjnych, przez regresję logistyczną, SVM-y, aż po sieci neuronowe.\n",
    "\n",
    "#### **Na jakie pytania chcemy odpowiedzieć?**\n",
    "\n",
    "Celem eksploracyjnej analizy danych jest poznanie struktury i zależności występujących w zbiorze `weatherAUS.csv`. Przykładowe pytania, na które postaramy się odpowiedzieć:\n",
    "\n",
    "1. Jakie czynniki atmosferyczne najbardziej wpływają na wystąpienie deszczu nastepnego dnia (RainTomorrow)?\n",
    "2. Jak zmieniają się warunki pogodowe w zaleźności od lokalizacji (Location) i pory roku (Date)?\n",
    "3. Które zmienne pogodowe najczęsciej występują w dni z ekstremalnymi zjawiskami (np. silne podmuchy wiatru lub duże opady)?\n",
    "\n",
    "\n",
    "Odpowiedzi na te pytania pomogą zrozumieć dane i mogą stanowić podstawę do dalszego modelowania predykcyjnego."
   ]
  },
  {
   "cell_type": "markdown",
   "metadata": {
    "id": "t9C-oIK59NyV"
   },
   "source": [
    "# <mark>**Czyszczenie i porządkowanie danych**</mark>"
   ]
  },
  {
   "cell_type": "markdown",
   "metadata": {
    "id": "OxQK_ulP9swm"
   },
   "source": [
    "## **Diagnostyka danych**"
   ]
  },
  {
   "cell_type": "code",
   "execution_count": null,
   "metadata": {
    "id": "H_yUKDv69VuL"
   },
   "outputs": [],
   "source": [
    "# statystyki danych - liczba wierszy, kolumn, typy danych, zmienna docelowa\n",
    "\n",
    "import pandas as pd\n",
    "\n",
    "# Wczytaj dane\n",
    "df = pd.read_csv('weatherAUS.csv')\n",
    "\n",
    "# Ogólne informacje o zbiorze\n",
    "liczba_wierszy = df.shape[0]\n",
    "liczba_kolumn = df.shape[1]\n",
    "\n",
    "# Typy danych\n",
    "typy_danych = df.dtypes\n",
    "zmienne_numeryczne = typy_danych[typy_danych == 'float64'].index.tolist()\n",
    "zmienne_tekstowe = typy_danych[typy_danych == 'object'].index.tolist()\n",
    "\n",
    "# Wyświetlenie wyników\n",
    "print(\"Informacje ogólne o zbiorze:\")\n",
    "print(f\"Liczba wierszy: {liczba_wierszy:,}\")\n",
    "print(f\"Liczba kolumn: {liczba_kolumn}\\n\")\n",
    "\n",
    "print(\"Typy danych:\")\n",
    "print(f\"  • {len(zmienne_numeryczne)} zmiennych numerycznych (float64)\")\n",
    "print(f\"  • {len(zmienne_tekstowe)} zmiennych tekstowych (object) – np. {', '.join(zmienne_tekstowe[:3])}\")\n",
    "\n",
    "# Zmienna docelowa\n",
    "print(\"\\nZmienna docelowa (główna zmienna zależna): RainTomorrow\")\n"
   ]
  },
  {
   "cell_type": "markdown",
   "metadata": {
    "id": "BYAYJuRL9VUq"
   },
   "source": [
    "Informacje ogólne o zbiorze:\n",
    "\n",
    "Liczba wierszy: **145 460** (każdy wiersz to jedna obserwacja — dzień z danej lokalizacji)\n",
    "\n",
    "Liczba kolumn: **23**\n",
    "\n",
    "Typy danych:\n",
    "\n",
    "* **16** zmiennych numerycznych (float64) – zawierają zmienne ciągłe, takie jak temperatura, opady, wilgotność\n",
    "\n",
    "* **7** zmiennych tekstowych (object) – zawierają daty, lokalizacje i dane kategoryczne (np. kierunek wiatru)\n",
    "\n",
    "Zmienna docelowa (główna zmienna zależna): **RainTomorrow**\n",
    "\n",
    "<p>\n",
    "\n",
    "Opis kolumn:\n",
    "\n",
    "**Date, Location** – data pomiaru i lokalizacja.\n",
    "\n",
    "**MinTemp, MaxTemp, Temp9am, Temp3pm** – temperatury w różnych porach dnia.\n",
    "\n",
    "**Rainfall** – ilość opadów (mm).\n",
    "\n",
    "**Evaporation, Sunshine** – dane o parowaniu i nasłonecznieniu.\n",
    "\n",
    "**WindGustDir, WindGustSpeed, WindDir9am, WindDir3pm, WindSpeed9am, WindSpeed3pm** – kierunek i prędkość wiatru.\n",
    "\n",
    "**Humidity9am, Humidity3pm** – wilgotność powietrza.\n",
    "\n",
    "**Pressure9am, Pressure3pm** – ciśnienie atmosferyczne.\n",
    "\n",
    "**Cloud9am, Cloud3pm** – zachmurzenie (skala 0–8).\n",
    "\n",
    "**RainToday, RainTomorrow** – czy padało dziś / czy będzie padać jutro (Yes/No).\n",
    "\n"
   ]
  },
  {
   "cell_type": "markdown",
   "metadata": {
    "id": "m_ZgNaPL9wLq"
   },
   "source": [
    "## **Braki - wizualizacja, omówienie, wzorzec, błędy w danych i ich naprawa, imputacja braków**"
   ]
  },
  {
   "cell_type": "code",
   "execution_count": null,
   "metadata": {
    "id": "dUzCl6SN915a"
   },
   "outputs": [],
   "source": [
    "import pandas as pd\n",
    "import matplotlib.pyplot as plt\n",
    "\n",
    "# Wczytanie danych\n",
    "df = pd.read_csv('weatherAUS.csv')  # Upewnij się, że plik znajduje się w katalogu projektu\n",
    "\n",
    "# Liczenie braków danych\n",
    "braki = df.isnull().sum()\n",
    "procent_brakow = (braki / len(df) * 100).round(1)\n",
    "\n",
    "# Filtrowanie tylko zmiennych z brakami\n",
    "braki_df = pd.DataFrame({\n",
    "    'Zmienna': braki.index,\n",
    "    'Braki': braki.values,\n",
    "    'Procent braków': procent_brakow.values\n",
    "})\n",
    "braki_df = braki_df[braki_df['Braki'] > 0]\n",
    "braki_df = braki_df.sort_values(by='Braki', ascending=False)\n",
    "\n",
    "# Formatowanie liczby braków i procentów dla przejrzystości (do tabeli wyjściowej)\n",
    "braki_df_format = braki_df.copy()\n",
    "braki_df_format['Braki'] = braki_df_format['Braki'].apply(lambda x: f\"{x:,}\")\n",
    "braki_df_format['Procent braków'] = braki_df_format['Procent braków'].apply(lambda x: f\"~{x:.0f}%\" if x >= 1 else \"<1.5%\")\n",
    "\n",
    "# Reset indeksu\n",
    "braki_df_format = braki_df_format.reset_index(drop=True)\n",
    "\n",
    "# === WYDRUK DO KONSOLI ===\n",
    "print(\"\\n=== Braki danych – omówienie ===\")\n",
    "print(braki_df_format)\n",
    "\n",
    "# === EKSPORT TABELI DO MARKDOWN (dla GitHuba) ===\n",
    "print(\"\\n--- Tabela Markdown (do README.md) ---\\n\")\n",
    "print(braki_df_format.to_markdown(index=False))\n",
    "\n",
    "# === WYKRES SŁUPKOWY ===\n",
    "missing_percent = df.isnull().mean().sort_values(ascending=False) * 100\n",
    "\n",
    "plt.figure(figsize=(10, 8))\n",
    "missing_percent.sort_values().plot(kind='barh')\n",
    "plt.title('Procent brakujących danych w kolumnach')\n",
    "plt.xlabel('Procent braków [%]')\n",
    "plt.ylabel('Kolumny')\n",
    "plt.grid(axis='x')\n",
    "plt.tight_layout()\n",
    "plt.show()"
   ]
  },
  {
   "cell_type": "markdown",
   "metadata": {
    "id": "gmRudGBe_Dxb"
   },
   "source": [
    "**Braki danych – omówienie i wizualizacja**\n",
    "\n",
    "| Zmienna |\tBraki\t| Procent braków |\n",
    "| :-----: | :---: | :------------: |\n",
    "| Sunshine\t| 69 835\t| ~48%\n",
    "| Evaporation\t| 62 790 | ~43%\n",
    "| Cloud3pm\t| 59 358\t| ~41%\n",
    "| Cloud9am\t| 55 888\t| ~38%\n",
    "| Pressure9am/3pm\t| ~15 000\t| ~10%\n",
    "| Wind-related (dir/speed)\t| ~10 000\t| ~6–7%\n",
    "| Rainfall, RainToday, RainTomorrow\t| ~3 000\t| ~2%\n",
    "| MinTemp/MaxTemp/Temp9am\t| <2 000\t| <1.5%\n",
    "\n",
    "***\n",
    "\n",
    "<p>Najwięcej braków mają zmienne związane z:</p>\n",
    "\n",
    "* nasłonecznieniem (**Sunshine**)\n",
    "* parowaniem (**Evaporation**)\n",
    "* zachmurzeniem o godzinie 15 i 9 (**Cloud3pm** i **Cloud9am**)\n",
    "\n",
    "![](Procent_braków.png)"
   ]
  },
  {
   "cell_type": "code",
   "execution_count": null,
   "metadata": {
    "id": "ZnNUwxvQYJjx"
   },
   "outputs": [],
   "source": [
    "# shadowmapa braku danych\n",
    "\n",
    "import numpy as np\n",
    "import matplotlib.pyplot as plt\n",
    "\n",
    "# Tworzymy binarną macierz braków (1 = brak, 0 = obecność)\n",
    "missing_matrix = df.isnull().astype(int)\n",
    "\n",
    "# Używamy próbki 1000 losowych wierszy dla przejrzystości wizualizacji\n",
    "sample = missing_matrix.sample(1000, random_state=42)\n",
    "\n",
    "# Rysowanie shadowmapy\n",
    "plt.figure(figsize=(14, 6))\n",
    "plt.imshow(sample.T, aspect='auto', cmap='gray_r', interpolation='none')\n",
    "plt.xlabel(\"Próbka 1000 rekordów\")\n",
    "plt.ylabel(\"Kolumny\")\n",
    "plt.title(\"Shadowmapa braków danych (1 = brak)\")\n",
    "plt.yticks(ticks=np.arange(len(sample.columns)), labels=sample.columns)\n",
    "plt.colorbar(label=\"Brak danych\")\n",
    "plt.show()\n"
   ]
  },
  {
   "cell_type": "markdown",
   "metadata": {},
   "source": [
    "![](Shadowmapa_braków.png)"
   ]
  },
  {
   "cell_type": "code",
   "execution_count": null,
   "metadata": {
    "id": "CLUggy2bYh6T"
   },
   "outputs": [],
   "source": [
    "# heatmapa braku danych\n",
    "\n",
    "import seaborn as sns\n",
    "import matplotlib.pyplot as plt\n",
    "\n",
    "# Oblicz macierz korelacji braków (czyli współwystępowania braków danych)\n",
    "missing_corr = df.isnull().corr()\n",
    "\n",
    "# Wizualizacja jako heatmapa\n",
    "plt.figure(figsize=(12, 10))\n",
    "sns.heatmap(missing_corr, annot=True, fmt=\".2f\", cmap=\"coolwarm\", square=True)\n",
    "plt.title(\"Heatmapa współwystępowania braków danych\")\n",
    "plt.show()\n"
   ]
  },
  {
   "cell_type": "markdown",
   "metadata": {},
   "source": [
    "![](Heatmapa_braków.png)"
   ]
  },
  {
   "cell_type": "markdown",
   "metadata": {
    "id": "zhqqte5rYm6E"
   },
   "source": [
    "Powyższa heatmapa pokazuje, jak bardzo braki danych w jednej kolumnie są skorelowane z brakami w innej kolumnie. <br> Wysoka dodatnia wartość (bliska 1) oznacza, że braki często występują razem."
   ]
  },
  {
   "cell_type": "markdown",
   "metadata": {
    "id": "rqFb-vVm_YRc"
   },
   "source": [
    "**Wzorzec** - Heatmapa korelacji"
   ]
  },
  {
   "cell_type": "code",
   "execution_count": null,
   "metadata": {
    "id": "TVQ1yPU__a22"
   },
   "outputs": [],
   "source": [
    "import matplotlib.pyplot as plt\n",
    "import seaborn as sns\n",
    "\n",
    "# Zamiana wartości tekstowych na liczby (przed analizą korelacji!)\n",
    "df['RainToday'] = df['RainToday'].map({'Yes': 1, 'No': 0})\n",
    "df['RainTomorrow'] = df['RainTomorrow'].map({'Yes': 1, 'No': 0})\n",
    "\n",
    "\n",
    "data = df\n",
    "\n",
    "# Oblicz korelacje tylko dla kolumn numerycznych\n",
    "corr_before_imputations = data.corr(numeric_only=True)\n",
    "\n",
    "# Rysuj mapę korelacji\n",
    "plt.figure(figsize=(14, 10))\n",
    "sns.heatmap(corr_before_imputations, annot=True, fmt=\".2f\", cmap=\"coolwarm\", center=0)\n",
    "plt.title(\"Mapa korelacji\")\n",
    "plt.tight_layout()\n",
    "plt.show()\n"
   ]
  },
  {
   "cell_type": "markdown",
   "metadata": {},
   "source": [
    "![](Heatmapa_korelacji.png)"
   ]
  },
  {
   "cell_type": "markdown",
   "metadata": {
    "id": "M_H8_vdbFVxv"
   },
   "source": [
    "**Omówienie wzorca**"
   ]
  },
  {
   "cell_type": "markdown",
   "metadata": {},
   "source": [
    "Poniżej przedstawiono zmienne o najwyższej korelacji z `RainTomorrow`:\n",
    "\n",
    "1. **Sunshine** → **-0.45** – im mniej słońca, tym większe prawdopodobieństwo deszczu.\n",
    "2. **Humidity3pm** → **+0.38** – wyższa wilgotność po południu sprzyja opadom.\n",
    "3. **Cloud3pm** → **+0.38** – większe zachmurzenie po południu to sygnał nadchodzącego deszczu.\n",
    "4. **RainToday** → **+0.31** – jeśli dziś padało, jutro również może.\n",
    "\n",
    "**Wniosek**:  \n",
    "\n",
    "Żadna pojedyncza zmienna nie wykazuje **silnej liniowej korelacji** z `RainTomorrow`. \n",
    "\n",
    "Oznacza to, że **prognozowanie opadów wymaga uwzględnienia kombinacji wielu cech**, a nie opierania się na jednej silnej predykcyjnej zmiennej."
   ]
  },
  {
   "cell_type": "markdown",
   "metadata": {
    "id": "PPCEHquy_gLR"
   },
   "source": [
    "**Błędy w danych i ich naprawa**"
   ]
  },
  {
   "cell_type": "markdown",
   "metadata": {
    "id": "hhxISDK8FYKc"
   },
   "source": [
    "Największym problemem zbioru są liczne braki dla kilku kolumn oraz potencjalne wartości odstające."
   ]
  },
  {
   "cell_type": "markdown",
   "metadata": {
    "id": "0eWQxVUW_rQd"
   },
   "source": [
    "**Imputacja braków**"
   ]
  },
  {
   "cell_type": "code",
   "execution_count": null,
   "metadata": {
    "id": "Yzb46Le0_9m6"
   },
   "outputs": [],
   "source": [
    "df_imputed = df.copy()\n",
    "\n",
    "# === 1. Usunięcie wierszy z brakami w zmiennych docelowych ===\n",
    "df_imputed = df_imputed[df_imputed['RainToday'].notna()]\n",
    "df_imputed = df_imputed[df_imputed['RainTomorrow'].notna()]\n",
    "\n",
    "\n",
    "# === 2. Imputacja mody lokalnej dla Cloud9am / Cloud3pm ===\n",
    "for col in ['Cloud9am', 'Cloud3pm']:\n",
    "    df_imputed[col] = df_imputed.groupby('Location')[col].transform(\n",
    "        lambda x: x.fillna(x.mode().iloc[0]) if not x.mode().empty else x\n",
    "    )\n",
    "\n",
    "# === 3. Imputacja mediany lokalnej dla zmiennych ciągłych ===\n",
    "median_local_cols = [\n",
    "    \"Sunshine\", \"Evaporation\", \"Pressure9am\", \"Pressure3pm\",\n",
    "    \"WindGustSpeed\", \"Humidity3pm\", \"Rainfall\", \"WindSpeed3pm\",\n",
    "    \"Humidity9am\", \"WindSpeed9am\", \"MinTemp\", \"MaxTemp\"\n",
    "]\n",
    "\n",
    "for col in median_local_cols:\n",
    "    df_imputed[col] = df_imputed.groupby('Location')[col].transform(\n",
    "        lambda x: x.fillna(x.median())\n",
    "    )\n",
    "\n",
    "# === 4. Imputacja mediany globalnej dla pozostałych numerycznych ===\n",
    "numeric_cols = df_imputed.select_dtypes(include=['float64', 'int64']).columns\n",
    "for col in numeric_cols:\n",
    "    df_imputed[col] = df_imputed[col].fillna(df_imputed[col].median())\n",
    "\n",
    "# === 5. Imputacja mody globalnej dla zmiennych kategorycznych ===\n",
    "for col in ['WindGustDir', 'WindDir9am', 'WindDir3pm']:\n",
    "    mode = df_imputed[col].mode()\n",
    "    if not mode.empty:\n",
    "        df_imputed[col] = df_imputed[col].fillna(mode.iloc[0])\n"
   ]
  },
  {
   "cell_type": "code",
   "execution_count": null,
   "metadata": {},
   "outputs": [],
   "source": [
    "corr_after_imputations = df_imputed.corr(numeric_only=True)['RainTomorrow'].sort_values(key=abs, ascending=False)\n"
   ]
  },
  {
   "cell_type": "markdown",
   "metadata": {},
   "source": [
    "### Porównanie korelacji zmiennych z `RainTomorrow` – przed i po aktualizacji danych\n",
    "\n",
    "| Zmienna         | Korelacja (wcześniej) | Korelacja (teraz) | Zmiana     |\n",
    "|-----------------|------------------------|--------------------|------------|\n",
    "| Sunshine        | -0.4508                | -0.3301            | 🔻 osłabła |\n",
    "| Humidity3pm     | +0.4462                | +0.4425            | 🔻 minimalnie |\n",
    "| RainToday       | +0.3131                | +0.3131            | ➖ bez zmian |\n",
    "| Humidity9am     | +0.2572                | +0.2573            | ➖ bez zmian |\n",
    "| Rainfall        | +0.2390                | +0.2390            | ➖ bez zmian |\n",
    "| Cloud3pm        | +0.3819                | +0.2378            | 🔻 wyraźnie osłabła |\n",
    "| Pressure9am     | -0.2464                | -0.2358            | 🔻 lekko osłabła |\n",
    "| WindGustSpeed   | +0.2340                | +0.2251            | 🔻 lekko osłabła |\n",
    "| Pressure3pm     | -0.2260                | -0.2167            | 🔻 lekko osłabła |\n",
    "| Cloud9am        | +0.3174                | +0.2109            | 🔻 znacząco słabsza |\n",
    "| MaxTemp         | -0.1592                | -0.1593            | ➖ praktycznie bez zmian |\n",
    "| Evaporation     | -0.1193                | -0.0922            | 🔻 słabsza korelacja |\n",
    "| WindSpeed9am    | +0.0910                | +0.0895            | ➖ bez większej różnicy |\n",
    "| WindSpeed3pm    | +0.0878                | +0.0853            | ➖ bez większej różnicy |\n",
    "| MinTemp         | +0.0839                | +0.0839            | ➖ bez zmian |"
   ]
  },
  {
   "cell_type": "markdown",
   "metadata": {},
   "source": [
    "### Wnioski dotyczące wpływu imputacji na korelacje z `RainTomorrow`\n",
    "\n",
    "Większość zmian w korelacjach po imputacji miała charakter kosmetyczny, co świadczy o stabilności zastosowanych metod uzupełniania danych.  \n",
    "Natomiast dla zmiennych **`Cloud3pm`**, **`Cloud9am`** oraz **`Sunshine`** zaobserwowano wyraźne osłabienie korelacji z cechą docelową `RainTomorrow`.\n",
    "\n",
    "\n",
    "Może to sugerować, że użyte techniki imputacji (np. **moda lokalna** lub **mediana lokalna**) spłaszczyły istotną zmienność w tych cechach, co osłabiło ich wartość predykcyjną.\n",
    "\n",
    "**Rekomendacja**:  \n",
    "Warto rozważyć zastosowanie bardziej zaawansowanych metod imputacji dla tych zmiennych, takich jak:\n",
    "- **KNN Imputer** (imputacja na podstawie sąsiadujących obserwacji),\n",
    "- **regresja wielozmienna** (zależna od innych cech pogodowych),\n",
    "- lub podejście modelowe z wykorzystaniem np. drzew decyzyjnych.\n"
   ]
  },
  {
   "cell_type": "markdown",
   "metadata": {
    "id": "_P4-Jg7XFZz-"
   },
   "source": [
    "### Omówienie strategii imputacji braków:\n",
    "\n",
    "\n",
    "\n",
    "W projekcie zastosowano zróżnicowane strategie imputacji braków danych, dopasowane do rodzaju zmiennej i jej charakterystyki:\n",
    "\n",
    "---\n",
    "\n",
    "#### 1. **Imputacja mody lokalnej (dla danych skokowych)**\n",
    "- **Zastosowano dla:** `Cloud9am`, `Cloud3pm`\n",
    "- **Opis:** Braki uzupełniane najczęściej występującą wartością (`modą`) w obrębie każdej lokalizacji (`Location`).\n",
    "- **Uzasadnienie:** Zmienne skokowe 0–8 mają charakter dyskretny i lokalna specyfika pogodowa może mieć wpływ.\n",
    "\n",
    "---\n",
    "\n",
    "#### 2. **Imputacja mediany lokalnej (dla zmiennych ciągłych)**\n",
    "- **Zastosowano dla:**\n",
    "  - `Sunshine`, `Evaporation`, `Pressure9am`, `Pressure3pm`\n",
    "  - `WindGustSpeed`, `Humidity3pm`, `Rainfall`, `WindSpeed3pm`\n",
    "  - `Humidity9am`, `WindSpeed9am`, `MinTemp`, `MaxTemp`\n",
    "- **Opis:** Braki uzupełniane medianą wyliczaną w obrębie lokalizacji (`Location`).\n",
    "- **Dodatkowo:** Jeśli dla danej lokalizacji nie można wyliczyć mediany, stosowana jest **mediana globalna**.\n",
    "\n",
    "---\n",
    "\n",
    "#### 3. **Imputacja mediany globalnej (dla pozostałych kolumn numerycznych)**\n",
    "- **Zastosowano dla:** wszystkich kolumn liczbowych, które po wcześniejszych krokach nadal zawierały braki.\n",
    "- **Opis:** Uzupełnienie braków wartością środkową z całej kolumny.\n",
    "\n",
    "---\n",
    "\n",
    "#### 4. **Imputacja mody globalnej (dla zmiennych kategorycznych – kierunki wiatru)**\n",
    "- **Zastosowano dla:** `WindGustDir`, `WindDir9am`, `WindDir3pm`\n",
    "- **Opis:** Braki wypełniane najczęściej występującą wartością (modą) w całym zbiorze.\n",
    "\n",
    "---\n",
    "\n",
    "#### 5. **Usunięcie wierszy z brakami w kluczowych zmiennych**\n",
    "- **Zastosowano dla:** `RainToday`, `RainTomorrow`\n",
    "- **Opis:** Wiersze, w których brakuje wartości zmiennych docelowych, zostały całkowicie usunięte z danych.\n",
    "- **Uzasadnienie:** Są to zmienne istotne dla predykcji – nie można ich imputować bez ryzyka wprowadzenia błędu poznawczego (*data leakage*).\n",
    "\n",
    "\n"
   ]
  },
  {
   "cell_type": "markdown",
   "metadata": {
    "id": "aeckbLEz_xti"
   },
   "source": [
    "## **Obserwacje odstające (outliers) - analiza**"
   ]
  },
  {
   "cell_type": "markdown",
   "metadata": {
    "id": "u-GtT0LsIdLE"
   },
   "source": [
    "**Obserwacje odstające - 7 zmiennych tekstowych**"
   ]
  },
  {
   "cell_type": "code",
   "execution_count": null,
   "metadata": {
    "id": "pIImYtfMIn_y"
   },
   "outputs": [],
   "source": [
    "# Wybór zmiennych tekstowych\n",
    "categorical_columns = df_imputed.select_dtypes(include='object').columns\n",
    "\n",
    "# Analiza unikalnych i rzadkich wartości\n",
    "category_outliers = {}\n",
    "\n",
    "for col in categorical_columns:\n",
    "    if df_imputed[col].isnull().all():\n",
    "        continue  # pomiń kolumny z samymi NaN\n",
    "    value_counts = df_imputed[col].value_counts(dropna=False)\n",
    "    rare_values = value_counts[value_counts < 10]  # można zmienić próg np. <5\n",
    "    category_outliers[col] = {\n",
    "        'Liczba unikalnych': value_counts.shape[0],\n",
    "        'Liczba bardzo rzadkich (<10)': rare_values.shape[0],\n",
    "        'Najrzadsze wartości': rare_values.index.dropna().tolist()\n",
    "    }\n",
    "\n",
    "# Konwersja do DataFrame\n",
    "category_outliers_df = pd.DataFrame.from_dict(category_outliers, orient='index')\n",
    "\n",
    "# Wyświetlenie\n",
    "print(category_outliers_df)\n"
   ]
  },
  {
   "cell_type": "markdown",
   "metadata": {
    "id": "WNjZ8K4pIpfG"
   },
   "source": [
    "Nie znaleziono niezwykle rzadkich wartości (<10 wystąpień) w żadnej zmiennej tekstowej – co oznacza, że:\n",
    "\n",
    "* Dane kategoryczne są czyste i spójne,\n",
    "\n",
    "* Nie ma błędnych wpisów typu \"WNW \" lub \"unknown\" itp.,\n",
    "\n",
    "* Brak potrzeby czyszczenia tekstów"
   ]
  },
  {
   "cell_type": "markdown",
   "metadata": {
    "id": "NvTFBTnXI5zf"
   },
   "source": [
    "**Obserwacje odstające - 16 zmiennych numerycznych**"
   ]
  },
  {
   "cell_type": "markdown",
   "metadata": {
    "id": "O_S1V3Q_hWcU"
   },
   "source": [
    "<mark>**IQR**</mark>"
   ]
  },
  {
   "cell_type": "code",
   "execution_count": null,
   "metadata": {
    "id": "3rQ5DM9D_uGJ"
   },
   "outputs": [],
   "source": [
    "# tabela z rankingiem liczby wartosci odstających (wraz z %) wg IQR\n",
    "\n",
    "import pandas as pd\n",
    "import numpy as np\n",
    "\n",
    "# Wczytanie danych\n",
    "df = pd.read_csv('weatherAUS.csv')\n",
    "\n",
    "# Wybór tylko zmiennych numerycznych\n",
    "df_numeric = df.select_dtypes(include=['float64'])\n",
    "\n",
    "# Obliczanie IQR\n",
    "Q1 = df_numeric.quantile(0.25)\n",
    "Q3 = df_numeric.quantile(0.75)\n",
    "IQR = Q3 - Q1\n",
    "outliers_iqr = ((df_numeric < (Q1 - 1.5 * IQR)) | (df_numeric > (Q3 + 1.5 * IQR))).sum()\n",
    "\n",
    "# Tworzenie DataFrame z wynikami i kolumną procentową\n",
    "outliers_iqr_df = pd.DataFrame({\n",
    "    'Zmienna': df_numeric.columns,\n",
    "    'Liczba odstających (IQR)': outliers_iqr.values,\n",
    "    '% całości (IQR)': (outliers_iqr.values / len(df) * 100).round(2)\n",
    "})\n",
    "\n",
    "# Sortowanie malejąco\n",
    "outliers_iqr_df_sorted = outliers_iqr_df.sort_values(by='Liczba odstających (IQR)', ascending=False).reset_index(drop=True)\n",
    "\n",
    "# Wyświetlenie wyniku\n",
    "print(outliers_iqr_df_sorted)\n"
   ]
  },
  {
   "cell_type": "markdown",
   "metadata": {},
   "source": [
    "| Zmienna       |   Liczba odstających (IQR) |   % całości (IQR) |\n",
    "|:--------------|---------------------------:|------------------:|\n",
    "| Rainfall      |                      25578 |             17.58 |\n",
    "| WindGustSpeed |                       3092 |              2.13 |\n",
    "| WindSpeed3pm  |                       2523 |              1.73 |\n",
    "| Evaporation   |                       1995 |              1.37 |\n",
    "| WindSpeed9am  |                       1817 |              1.25 |\n",
    "| Humidity9am   |                       1425 |              0.98 |\n",
    "| Pressure9am   |                       1191 |              0.82 |\n",
    "| Pressure3pm   |                        919 |              0.63 |\n",
    "| Temp3pm       |                        764 |              0.53 |\n",
    "| MaxTemp       |                        489 |              0.34 |\n",
    "| Temp9am       |                        262 |              0.18 |\n",
    "| MinTemp       |                         54 |              0.04 |\n",
    "| Sunshine      |                          0 |              0.00 |\n",
    "| Humidity3pm   |                          0 |              0.00 |\n",
    "| Cloud3pm      |                          0 |              0.00 |\n",
    "| Cloud9am      |                          0 |              0.00 |"
   ]
  },
  {
   "cell_type": "code",
   "execution_count": null,
   "metadata": {
    "id": "mWni7vTuhnw3"
   },
   "outputs": [],
   "source": [
    "# wykres obserwacji odstających wg IQR\n",
    "\n",
    "import pandas as pd\n",
    "import numpy as np\n",
    "import matplotlib.pyplot as plt\n",
    "\n",
    "# Wczytanie danych\n",
    "df = pd.read_csv('weatherAUS.csv')\n",
    "df_numeric = df.select_dtypes(include=['float64'])\n",
    "\n",
    "# Obliczanie IQR i liczba outlierów\n",
    "Q1 = df_numeric.quantile(0.25)\n",
    "Q3 = df_numeric.quantile(0.75)\n",
    "IQR = Q3 - Q1\n",
    "outliers_iqr = ((df_numeric < (Q1 - 1.5 * IQR)) | (df_numeric > (Q3 + 1.5 * IQR))).sum()\n",
    "\n",
    "# Przygotowanie danych do wykresu\n",
    "df_iqr_sorted = pd.DataFrame({\n",
    "    'Zmienna': df_numeric.columns,\n",
    "    'Liczba odstających (IQR)': outliers_iqr.values\n",
    "}).sort_values(by='Liczba odstających (IQR)', ascending=False)\n",
    "\n",
    "# Wykres poziomy\n",
    "df_iqr_sorted.plot(\n",
    "    y='Liczba odstających (IQR)',\n",
    "    x='Zmienna',\n",
    "    kind='barh',\n",
    "    color='orange',\n",
    "    figsize=(10, 8),\n",
    "    legend=False,\n",
    "    title='Liczba obserwacji odstających wg IQR',\n",
    "    xlabel='Liczba obserwacji odstających'\n",
    ")\n",
    "plt.gca().invert_yaxis()\n",
    "plt.tight_layout()\n",
    "plt.show()\n"
   ]
  },
  {
   "cell_type": "markdown",
   "metadata": {},
   "source": [
    "![](Liczba_wartości_odstających.png)"
   ]
  },
  {
   "cell_type": "markdown",
   "metadata": {
    "id": "OKxiBGq7ho1C"
   },
   "source": [
    "Najwięcej wartości odstających występuje w kolumnie **Rainfall**, co może świadczyć o dużej zmienności lub obecności ekstremalnych opadów w danych pogodowych.  \n",
    "Warto zaznaczyć, że w ponad 60% przypadków `Rainfall = 0`, ze względu na brak opadów danego dnia. Taka zależność tłumaczy liczbę odstających obserwacji.  \n",
    "Pozostałe kolumny, jak **WindGustSpeed**, **WindSpeed3pm** czy **Evaporation**, mają znacznie mniej odstających, co sugeruje bardziej stabilne rozkłady wartości."
   ]
  },
  {
   "cell_type": "markdown",
   "metadata": {
    "id": "wlLLuJSdiIPq"
   },
   "source": [
    "<mark>**Z-score >3**</mark>"
   ]
  },
  {
   "cell_type": "code",
   "execution_count": null,
   "metadata": {
    "id": "Xc6YzXtehRSi"
   },
   "outputs": [],
   "source": [
    "# tabela z rankingiem liczby wartosci odstających (wraz z %) wg Z-score >3\n",
    "\n",
    "import pandas as pd\n",
    "import numpy as np\n",
    "\n",
    "# Wczytanie danych\n",
    "df = pd.read_csv('weatherAUS.csv')\n",
    "\n",
    "# Wybór tylko zmiennych numerycznych\n",
    "df_numeric = df.select_dtypes(include=['float64'])\n",
    "\n",
    "# Obliczanie Z-score\n",
    "z_scores = np.abs((df_numeric - df_numeric.mean()) / df_numeric.std())\n",
    "outliers_z = (z_scores > 3).sum()\n",
    "\n",
    "# Tworzenie DataFrame z wynikami i kolumną procentową\n",
    "outliers_z_df = pd.DataFrame({\n",
    "    'Zmienna': df_numeric.columns,\n",
    "    'Liczba odstających (Z-score)': outliers_z.values,\n",
    "    '% całości (Z-score)': (outliers_z.values / len(df) * 100).round(2)\n",
    "})\n",
    "\n",
    "# Sortowanie malejąco\n",
    "outliers_z_df_sorted = outliers_z_df.sort_values(by='Liczba odstających (Z-score)', ascending=False).reset_index(drop=True)\n",
    "\n",
    "# Wyświetlenie wyniku\n",
    "print(outliers_z_df_sorted)\n"
   ]
  },
  {
   "cell_type": "code",
   "execution_count": null,
   "metadata": {
    "id": "dLYiCwLrJkYr"
   },
   "outputs": [],
   "source": [
    "# wykres liczby obserwacji odstających wg Z-score >3\n",
    "\n",
    "import pandas as pd\n",
    "import numpy as np\n",
    "import matplotlib.pyplot as plt\n",
    "\n",
    "# Wczytanie danych\n",
    "df = pd.read_csv('weatherAUS.csv')\n",
    "df_numeric = df.select_dtypes(include=['float64'])\n",
    "\n",
    "# Obliczanie Z-score i liczba outlierów\n",
    "z_scores = np.abs((df_numeric - df_numeric.mean()) / df_numeric.std())\n",
    "outliers_z = (z_scores > 3).sum()\n",
    "\n",
    "# Przygotowanie danych do wykresu\n",
    "df_zscore_sorted = pd.DataFrame({\n",
    "    'Zmienna': df_numeric.columns,\n",
    "    'Liczba odstających (Z-score)': outliers_z.values\n",
    "}).sort_values(by='Liczba odstających (Z-score)', ascending=False)\n",
    "\n",
    "# Wykres poziomy\n",
    "df_zscore_sorted.plot(\n",
    "    y='Liczba odstających (Z-score)',\n",
    "    x='Zmienna',\n",
    "    kind='barh',\n",
    "    figsize=(10, 8),\n",
    "    legend=False,\n",
    "    title='Liczba obserwacji odstających wg Z-score (>3)',\n",
    "    xlabel='Liczba obserwacji odstających'\n",
    ")\n",
    "plt.gca().invert_yaxis()\n",
    "plt.tight_layout()\n",
    "plt.show()\n"
   ]
  },
  {
   "cell_type": "markdown",
   "metadata": {
    "id": "mgLI1ZItiXct"
   },
   "source": [
    "Najwięcej wartości odstających ponownie występuje w kolumnie Rainfall, choć ich liczba jest znacznie mniejsza niż przy analizie IQR (ok. 1,7% vs 18%). To sugeruje, że rozkład tej zmiennej może być silnie skośny, przez co Z-score — który zakłada rozkład normalny — nie identyfikuje tylu wartości jako odstające.\n",
    "\n",
    "Kolumny związane z prędkościami wiatru (WindGustSpeed, WindSpeed9am, WindSpeed3pm) także zawierają zauważalną liczbę wartości odstających.\n",
    "\n",
    "Ogólnie, Z-score identyfikuje znacznie mniej outlierów niż metoda IQR, co jest typowe dla danych o rozkładzie innym niż normalny."
   ]
  },
  {
   "cell_type": "markdown",
   "metadata": {
    "id": "V-bRTcQDAawW"
   },
   "source": [
    "1. **Rainfall (opady deszczu)**"
   ]
  },
  {
   "cell_type": "code",
   "execution_count": null,
   "metadata": {
    "id": "dbfKLh_vAfao"
   },
   "outputs": [],
   "source": [
    "# box plot i histogram\n",
    "\n",
    "import pandas as pd\n",
    "import matplotlib.pyplot as plt\n",
    "\n",
    "# Wczytanie danych\n",
    "file_path = 'weatherAUS.csv'\n",
    "df = pd.read_csv(file_path)\n",
    "\n",
    "# Konwersja kolumny Rainfall na wartości numeryczne i usunięcie braków\n",
    "df['Rainfall'] = pd.to_numeric(df['Rainfall'], errors='coerce')\n",
    "rainfall = df['Rainfall'].dropna()\n",
    "\n",
    "# Wyznaczenie wartości odstających na podstawie klasycznego IQR\n",
    "Q1 = rainfall.quantile(0.25)\n",
    "Q3 = rainfall.quantile(0.75)\n",
    "IQR = Q3 - Q1\n",
    "outliers = rainfall[(rainfall < Q1 - 1.5 * IQR) | (rainfall > Q3 + 1.5 * IQR)]\n",
    "\n",
    "# Tworzenie box plotu\n",
    "plt.figure(figsize=(10, 6))\n",
    "plt.boxplot(outliers, vert=False)\n",
    "plt.title('Box plot wartości odstających - Rainfall')\n",
    "plt.xlabel('Rainfall')\n",
    "plt.grid(True)\n",
    "plt.show()\n",
    "\n",
    "# Tworzenie histogramu\n",
    "plt.figure(figsize=(10, 6))\n",
    "plt.hist(outliers, bins=100)\n",
    "plt.title('Histogram wartości odstających - Rainfall')\n",
    "plt.xlabel('Rainfall')\n",
    "plt.ylabel('Liczba obserwacji')\n",
    "plt.grid(True)\n",
    "plt.show()\n"
   ]
  },
  {
   "cell_type": "markdown",
   "metadata": {},
   "source": [
    "![](Boxplot_odstających_Rainfall.png)\n",
    "![](Histogram_odstających_Rainfall.png)"
   ]
  },
  {
   "cell_type": "markdown",
   "metadata": {
    "id": "t8ghNleYAgbT"
   },
   "source": [
    "Zmienna \"Rainfall\" ma zdecydowanie najwięcej wartości odstających – aż **25 578** przypadków, co stanowi około **17,99%** wszystkich niepustych obserwacji. Rozkład tej zmiennej jest silnie skośny prawostronnie, co oznacza, że większość dni jest sucha lub z niewielkimi opadami, a tylko nieliczne mają intensywne deszcze. Takie zachowanie danych jest typowe dla zmiennych opadowych, gdzie ekstremalne wartości są rzadkie, ale bardzo istotne. W analizie danych warto rozważyć przekształcenia (np. logarytmiczne lub kategoryczne), aby ograniczyć wpływ dużych wartości na model. Jednocześnie nie należy ich eliminować – mogą być kluczowe dla wykrywania zjawisk ekstremalnych, jak powodzie."
   ]
  },
  {
   "cell_type": "markdown",
   "metadata": {
    "id": "dwIzB7vZBOJH"
   },
   "source": [
    "2. **WindGustSpeed (prędkość podmuchów wiatru)**"
   ]
  },
  {
   "cell_type": "code",
   "execution_count": null,
   "metadata": {
    "id": "tDdWQl8dBRIT"
   },
   "outputs": [],
   "source": [
    "# box plot i histogram\n",
    "\n",
    "import pandas as pd\n",
    "import matplotlib.pyplot as plt\n",
    "\n",
    "# Wczytanie danych\n",
    "file_path = 'weatherAUS.csv'  # Zamień na pełną ścieżkę pliku jeśli potrzebujesz\n",
    "df = pd.read_csv(file_path)\n",
    "\n",
    "# Konwersja kolumny WindGustSpeed na wartości numeryczne i usunięcie braków\n",
    "df['WindGustSpeed'] = pd.to_numeric(df['WindGustSpeed'], errors='coerce')\n",
    "wind_gust = df['WindGustSpeed'].dropna()\n",
    "\n",
    "# Wyznaczenie wartości odstających metodą IQR\n",
    "Q1_wind = wind_gust.quantile(0.25)\n",
    "Q3_wind = wind_gust.quantile(0.75)\n",
    "IQR_wind = Q3_wind - Q1_wind\n",
    "outliers_wind = wind_gust[(wind_gust < Q1_wind - 1.5 * IQR_wind) | (wind_gust > Q3_wind + 1.5 * IQR_wind)]\n",
    "\n",
    "# Tworzenie box plotu\n",
    "plt.figure(figsize=(10, 6))\n",
    "plt.boxplot(outliers_wind, vert=False)\n",
    "plt.title('Box plot wartości odstających - WindGustSpeed')\n",
    "plt.xlabel('WindGustSpeed')\n",
    "plt.grid(True)\n",
    "plt.show()\n",
    "\n",
    "# Tworzenie histogramu\n",
    "plt.figure(figsize=(10, 6))\n",
    "plt.hist(outliers_wind, bins=50)\n",
    "plt.title('Histogram wartości odstających - WindGustSpeed')\n",
    "plt.xlabel('WindGustSpeed')\n",
    "plt.ylabel('Liczba obserwacji')\n",
    "plt.grid(True)\n",
    "plt.show()\n"
   ]
  },
  {
   "cell_type": "markdown",
   "metadata": {},
   "source": [
    "![](Boxplot_odstających_WindGustSpeed.png)\n",
    "![](Histogram_odstających_WindGustSpeed.png)"
   ]
  },
  {
   "cell_type": "markdown",
   "metadata": {
    "id": "mr289-4pBV-q"
   },
   "source": [
    "W zmiennej \"WindGustSpeed\" zidentyfikowano **3 092** wartości odstające, co stanowi około **2,29%** wszystkich obserwacji. Rozkład jest umiarkowanie skośny w prawo, z dużą liczbą umiarkowanych wartości i rzadkimi, bardzo wysokimi porywami wiatru. Wysokie wartości odpowiadają zazwyczaj dynamicznym warunkom atmosferycznym, takim jak burze lub fronty atmosferyczne. Mimo że te dane są technicznie odstające, niekoniecznie powinny być traktowane jako błędy – często są one bardzo cenne w kontekście przewidywania zjawisk ekstremalnych lub zagrożeń pogodowych."
   ]
  },
  {
   "cell_type": "markdown",
   "metadata": {
    "id": "0J4_6XY3BAmj"
   },
   "source": [
    "3. **WindSpeed3pm (prędkość wiatru o godzinie 15)**"
   ]
  },
  {
   "cell_type": "code",
   "execution_count": null,
   "metadata": {
    "id": "xW3arwqUBDSE"
   },
   "outputs": [],
   "source": [
    "# box plot i histogram\n",
    "\n",
    "import pandas as pd\n",
    "import matplotlib.pyplot as plt\n",
    "\n",
    "# Wczytanie danych\n",
    "file_path = 'weatherAUS.csv'  # Zmień ścieżkę, jeśli plik znajduje się gdzie indziej\n",
    "df = pd.read_csv(file_path)\n",
    "\n",
    "# Konwersja kolumny WindSpeed3pm na wartości numeryczne i usunięcie braków\n",
    "df['WindSpeed3pm'] = pd.to_numeric(df['WindSpeed3pm'], errors='coerce')\n",
    "wind_speed_3pm = df['WindSpeed3pm'].dropna()\n",
    "\n",
    "# Obliczenie wartości odstających metodą IQR\n",
    "Q1 = wind_speed_3pm.quantile(0.25)\n",
    "Q3 = wind_speed_3pm.quantile(0.75)\n",
    "IQR = Q3 - Q1\n",
    "outliers = wind_speed_3pm[(wind_speed_3pm < Q1 - 1.5 * IQR) | (wind_speed_3pm > Q3 + 1.5 * IQR)]\n",
    "\n",
    "# Tworzenie box plotu\n",
    "plt.figure(figsize=(10, 6))\n",
    "plt.boxplot(outliers, vert=False)\n",
    "plt.title('Box plot wartości odstających - WindSpeed3pm')\n",
    "plt.xlabel('WindSpeed3pm')\n",
    "plt.grid(True)\n",
    "plt.show()\n",
    "\n",
    "# Tworzenie histogramu\n",
    "plt.figure(figsize=(10, 6))\n",
    "plt.hist(outliers, bins=50)\n",
    "plt.title('Histogram wartości odstających - WindSpeed3pm')\n",
    "plt.xlabel('WindSpeed3pm')\n",
    "plt.ylabel('Liczba obserwacji')\n",
    "plt.grid(True)\n",
    "plt.show()\n"
   ]
  },
  {
   "cell_type": "markdown",
   "metadata": {},
   "source": [
    "![](Boxplot_odstających_WindSpeed3pm.png)\n",
    "![](Histogram_odstających_WindSpeed3pm.png)"
   ]
  },
  {
   "cell_type": "markdown",
   "metadata": {
    "id": "CTTCtaCpBFn4"
   },
   "source": [
    "Zmienna \"WindSpeed3pm\" zawiera **2 523** wartości odstające, czyli około **1,77%** przypadków. Rozkład tej cechy jest lekko skośny w prawo, z dominacją niskich i umiarkowanych wartości, ale z obecnością wyraźnych ekstremów. Odstające wartości mogą odzwierciedlać dynamiczne warunki atmosferyczne, takie jak nagłe zmiany temperatury i ciśnienia, które występują szczególnie w godzinach popołudniowych. W modelach predykcyjnych mogą one wpływać na jakość prognoz, dlatego zaleca się uwzględnienie ich jako potencjalnie informacyjnych, zwłaszcza przy analizach sezonowych lub regionalnych."
   ]
  },
  {
   "cell_type": "markdown",
   "metadata": {
    "id": "PNVR9UVMAvKK"
   },
   "source": [
    "4. **Evaporation (parowanie)**"
   ]
  },
  {
   "cell_type": "code",
   "execution_count": null,
   "metadata": {
    "id": "J6KLehMHAx9e"
   },
   "outputs": [],
   "source": [
    "# box plot i histogram\n",
    "\n",
    "import pandas as pd\n",
    "import matplotlib.pyplot as plt\n",
    "\n",
    "# Wczytanie danych\n",
    "file_path = 'weatherAUS.csv'  # Zmień ścieżkę pliku, jeśli potrzebne\n",
    "df = pd.read_csv(file_path)\n",
    "\n",
    "# Konwersja kolumny Evaporation do typu numerycznego i usunięcie braków\n",
    "df['Evaporation'] = pd.to_numeric(df['Evaporation'], errors='coerce')\n",
    "evaporation = df['Evaporation'].dropna()\n",
    "\n",
    "# Obliczenie wartości odstających przy użyciu metody IQR\n",
    "Q1 = evaporation.quantile(0.25)\n",
    "Q3 = evaporation.quantile(0.75)\n",
    "IQR = Q3 - Q1\n",
    "outliers = evaporation[(evaporation < Q1 - 1.5 * IQR) | (evaporation > Q3 + 1.5 * IQR)]\n",
    "\n",
    "# Tworzenie box plotu\n",
    "plt.figure(figsize=(10, 6))\n",
    "plt.boxplot(outliers, vert=False)\n",
    "plt.title('Box plot wartości odstających - Evaporation')\n",
    "plt.xlabel('Evaporation')\n",
    "plt.grid(True)\n",
    "plt.show()\n",
    "\n",
    "# Tworzenie histogramu\n",
    "plt.figure(figsize=(10, 6))\n",
    "plt.hist(outliers, bins=50)\n",
    "plt.title('Histogram wartości odstających - Evaporation')\n",
    "plt.xlabel('Evaporation')\n",
    "plt.ylabel('Liczba obserwacji')\n",
    "plt.show()\n"
   ]
  },
  {
   "cell_type": "markdown",
   "metadata": {},
   "source": [
    "![](Boxplot_odstających_Evaporation.png)\n",
    "![](Histogram_odstających_Evaporation.png)"
   ]
  },
  {
   "cell_type": "markdown",
   "metadata": {
    "id": "Zakp2_7VA164"
   },
   "source": [
    "Dla zmiennej \"Evaporation\" występuje **1 995** odstających obserwacji, co daje około **2,41%** wśród niepustych danych. Rozkład tej zmiennej jest skośny prawostronnie, ponieważ parowanie jest zwykle niewielkie, a tylko w gorące, suche dni osiąga wysokie wartości. Odstające punkty mogą być bardzo wartościowe w analizie zjawisk takich jak susze lub intensywne nasłonecznienie. Ze względu na dużą liczbę braków danych w tej kolumnie, należy dokładnie rozważyć, jak te wartości traktować – np. ograniczyć analizę do kompletnego podzbioru lub zastosować techniki imputacji."
   ]
  },
  {
   "cell_type": "markdown",
   "metadata": {
    "id": "_c-egkydBbbp"
   },
   "source": [
    "5. **WindSpeed9am (prędkość wiatru o godzinie 9)**"
   ]
  },
  {
   "cell_type": "code",
   "execution_count": null,
   "metadata": {
    "id": "pSNxFtYwBddC"
   },
   "outputs": [],
   "source": [
    "# box plot i histogram\n",
    "\n",
    "import pandas as pd\n",
    "import matplotlib.pyplot as plt\n",
    "\n",
    "# Wczytanie danych\n",
    "file_path = 'weatherAUS.csv'  # Zmień jeśli plik jest w innej lokalizacji\n",
    "df = pd.read_csv(file_path)\n",
    "\n",
    "# WindSpeed9am - przygotowanie danych\n",
    "df['WindSpeed9am'] = pd.to_numeric(df['WindSpeed9am'], errors='coerce')\n",
    "wind_speed_9am = df['WindSpeed9am'].dropna()\n",
    "\n",
    "# Obliczenie wartości odstających (IQR)\n",
    "Q1 = wind_speed_9am.quantile(0.25)\n",
    "Q3 = wind_speed_9am.quantile(0.75)\n",
    "IQR = Q3 - Q1\n",
    "outliers = wind_speed_9am[(wind_speed_9am < Q1 - 1.5 * IQR) | (wind_speed_9am > Q3 + 1.5 * IQR)]\n",
    "\n",
    "# Box plot\n",
    "plt.figure(figsize=(10, 6))\n",
    "plt.boxplot(outliers, vert=False)\n",
    "plt.title('Box plot wartości odstających - WindSpeed9am')\n",
    "plt.xlabel('WindSpeed9am')\n",
    "plt.grid(True)\n",
    "plt.show()\n",
    "\n",
    "# Histogram\n",
    "plt.figure(figsize=(10, 6))\n",
    "plt.hist(outliers, bins=50)\n",
    "plt.title('Histogram wartości odstających - WindSpeed9am')\n",
    "plt.xlabel('WindSpeed9am')\n",
    "plt.ylabel('Liczba obserwacji')\n",
    "plt.grid(True)\n",
    "plt.show()\n"
   ]
  },
  {
   "cell_type": "markdown",
   "metadata": {},
   "source": [
    "![](Boxplot_odstających_WindSpeed9am.png)\n",
    "![](Histogram_odstających_WindSpeed9am.png)"
   ]
  },
  {
   "cell_type": "markdown",
   "metadata": {
    "id": "LJ-T7E-pBoed"
   },
   "source": [
    "Zmienna \"WindSpeed9am\" zawiera **1 817 wartości odstających**, czyli około **1,26%** danych. Jej rozkład jest stosunkowo symetryczny, z lekką skośnością w prawo. Oznacza to, że dane są dość stabilne, ale okazjonalnie pojawiają się wyższe wartości, prawdopodobnie związane z nietypowymi zjawiskami pogodowymi, takimi jak poranne burze lub silne wiatry frontowe. Wartości odstające w tej zmiennej są mniej liczne niż w zmiennych popołudniowych, ale nadal mogą być istotne przy modelowaniu zachowań atmosferycznych w ciągu całego dnia.\n",
    "\n"
   ]
  },
  {
   "cell_type": "markdown",
   "metadata": {
    "id": "hvGT7xEaVY4h"
   },
   "source": [
    "* _shadowmapy_\n",
    "* _heatmapy braków_\n",
    "* _omówienie wzorca_\n",
    "* _omówienie strategii imputacji braków_\n",
    "* _określenie reguł dla danych_\n",
    "* _wizualizacja naruszeń_\n",
    "* _naprawa_\n",
    "* _analiza obserwacji odstających z omówieniem_"
   ]
  },
  {
   "cell_type": "markdown",
   "metadata": {
    "id": "eVPIsV3CB9aU"
   },
   "source": [
    "# <mark>**Wizualizacje**</mark>\n",
    "\n",
    "#### **4-5 wykresów przedstawiających określone wzorce lub cechy, które chcesz podkreślić. <br>Każdej wizualizacji powinien towarzyszyć krótki (1-2 zdania) opis tego, co według Ciebie pokazuje**"
   ]
  },
  {
   "cell_type": "markdown",
   "metadata": {
    "id": "Xi79Z_87CE1O"
   },
   "source": [
    "1. **MinTemp vs MaxTemp**"
   ]
  },
  {
   "cell_type": "code",
   "execution_count": null,
   "metadata": {
    "id": "4MPUzB2-CHHK"
   },
   "outputs": [],
   "source": [
    "import pandas as pd\n",
    "import matplotlib.pyplot as plt\n",
    "\n",
    "df = pd.read_csv(\"weatherAUS.csv\")\n",
    "df = df.dropna(subset=['MinTemp', 'MaxTemp'])\n",
    "\n",
    "plt.figure(figsize=(6, 4))\n",
    "plt.scatter(df['MinTemp'], df['MaxTemp'], alpha=0.3)\n",
    "plt.xlabel('MinTemp (°C)')\n",
    "plt.ylabel('MaxTemp (°C)')\n",
    "plt.title('MinTemp vs MaxTemp')\n",
    "plt.grid(True)\n",
    "plt.tight_layout()\n",
    "plt.show()\n"
   ]
  },
  {
   "cell_type": "markdown",
   "metadata": {},
   "source": [
    "![](MinTemp_vs_MaxTemp.png)"
   ]
  },
  {
   "cell_type": "markdown",
   "metadata": {
    "id": "xQ523Z3ACIAS"
   },
   "source": [
    "Wykres pokazuje silną dodatnią korelację — wyższa temperatura minimalna zwykle wiąże się z wyższą temperaturą maksymalną tego dnia."
   ]
  },
  {
   "cell_type": "markdown",
   "metadata": {
    "id": "or7GhaJqCnqO"
   },
   "source": [
    "2. **Rozkład opadów (Rainfall)**"
   ]
  },
  {
   "cell_type": "code",
   "execution_count": null,
   "metadata": {
    "id": "jW20SyOlCoOX"
   },
   "outputs": [],
   "source": [
    "import pandas as pd\n",
    "import matplotlib.pyplot as plt\n",
    "\n",
    "df = pd.read_csv(\"weatherAUS.csv\")\n",
    "df = df.dropna(subset=['Rainfall'])\n",
    "\n",
    "plt.figure(figsize=(6, 4))\n",
    "df['Rainfall'].hist(bins=50)\n",
    "plt.xlim(0, 20)  # Skupiamy się na wartościach do 20 mm\n",
    "plt.xlabel('Rainfall (mm)')\n",
    "plt.ylabel('Liczba dni')\n",
    "plt.title('Rozkład opadów')\n",
    "plt.grid(True)\n",
    "plt.tight_layout()\n",
    "plt.show()\n"
   ]
  },
  {
   "cell_type": "markdown",
   "metadata": {},
   "source": [
    "![](Rozkład_opadów.png)"
   ]
  },
  {
   "cell_type": "markdown",
   "metadata": {
    "id": "esS0MNLTCpTb"
   },
   "source": [
    "Większość dni charakteryzuje się bardzo małymi opadami (bliskimi 0 mm), natomiast większe sumy opadów są rzadkie, co wskazuje na ich nieregularny charakter."
   ]
  },
  {
   "cell_type": "markdown",
   "metadata": {
    "id": "xhqWJhvrDA5z"
   },
   "source": [
    "3. **Nasłonecznienie a opady następnego dnia (RainTomorrow) (wykres pudełkowy)**"
   ]
  },
  {
   "cell_type": "code",
   "execution_count": null,
   "metadata": {
    "id": "wGE78NypDCyO"
   },
   "outputs": [],
   "source": [
    "import pandas as pd\n",
    "import matplotlib.pyplot as plt\n",
    "\n",
    "df = pd.read_csv(\"weatherAUS.csv\")\n",
    "df = df.dropna(subset=['Sunshine', 'RainTomorrow'])\n",
    "df['RainTomorrow'] = df['RainTomorrow'].map({'No': 0, 'Yes': 1})\n",
    "\n",
    "plt.figure(figsize=(6, 4))\n",
    "df.boxplot(column='Sunshine', by='RainTomorrow')\n",
    "plt.xlabel('Rain Tomorrow (0=No, 1=Yes)')\n",
    "plt.ylabel('Sunshine (hours)')\n",
    "plt.title('Sunshine vs RainTomorrow')\n",
    "plt.suptitle('')\n",
    "plt.grid(True)\n",
    "plt.tight_layout()\n",
    "plt.show()\n"
   ]
  },
  {
   "cell_type": "markdown",
   "metadata": {},
   "source": [
    "![](Sunshine_vs_RainTomorrow.png)"
   ]
  },
  {
   "cell_type": "markdown",
   "metadata": {
    "id": "vTwLHdbeDKVP"
   },
   "source": [
    "Gdy danego dnia świeci słońce przez więcej godzin, szansa na deszcz następnego dnia jest mniejsza — opady częściej występują po dniach z małym nasłonecznieniem."
   ]
  },
  {
   "cell_type": "markdown",
   "metadata": {
    "id": "kB8S2lp0C5y9"
   },
   "source": [
    "4. **Wilgotność o 15:00 a opady następnego dnia (RainTomorrow) (wykres pudełkowy)**"
   ]
  },
  {
   "cell_type": "code",
   "execution_count": null,
   "metadata": {
    "id": "VcExuOEMDNqZ"
   },
   "outputs": [],
   "source": [
    "import pandas as pd\n",
    "import matplotlib.pyplot as plt\n",
    "\n",
    "df = pd.read_csv(\"weatherAUS.csv\")\n",
    "df = df.dropna(subset=['Humidity3pm', 'RainTomorrow'])\n",
    "df['RainTomorrow'] = df['RainTomorrow'].map({'No': 0, 'Yes': 1})\n",
    "\n",
    "plt.figure(figsize=(6, 4))\n",
    "df.boxplot(column='Humidity3pm', by='RainTomorrow')\n",
    "plt.xlabel('Rain Tomorrow (0=No, 1=Yes)')\n",
    "plt.ylabel('Humidity at 3pm (%)')\n",
    "plt.title('Humidity3pm vs RainTomorrow')\n",
    "plt.suptitle('')\n",
    "plt.grid(True)\n",
    "plt.tight_layout()\n",
    "plt.show()"
   ]
  },
  {
   "cell_type": "markdown",
   "metadata": {},
   "source": [
    "![](Humidity3pm_vs_RainTomorrow.png)"
   ]
  },
  {
   "cell_type": "markdown",
   "metadata": {
    "id": "UA7Bjgu-DO4b"
   },
   "source": [
    "Wyższa wilgotność powietrza po południu koreluje z większym prawdopodobieństwem opadów dnia następnego."
   ]
  },
  {
   "cell_type": "markdown",
   "metadata": {
    "id": "ld29-hqrDSc2"
   },
   "source": [
    "5. **Średnia temperatura maksymalna dla 10 najczęstszych lokalizacji**"
   ]
  },
  {
   "cell_type": "code",
   "execution_count": null,
   "metadata": {
    "id": "QTrzQ1ntDTrc"
   },
   "outputs": [],
   "source": [
    "import pandas as pd\n",
    "import matplotlib.pyplot as plt\n",
    "\n",
    "df = pd.read_csv(\"weatherAUS.csv\")\n",
    "df = df.dropna(subset=['Location', 'MaxTemp'])\n",
    "\n",
    "top_locations = df['Location'].value_counts().head(10).index\n",
    "avg_max_temp = df[df['Location'].isin(top_locations)].groupby('Location')['MaxTemp'].mean()\n",
    "\n",
    "plt.figure(figsize=(8, 4))\n",
    "avg_max_temp.sort_values().plot(kind='bar')\n",
    "plt.ylabel('Średnia MaxTemp (°C)')\n",
    "plt.title('Średnia temperatura maksymalna (Top 10 lokalizacji)')\n",
    "plt.grid(axis='y')\n",
    "plt.tight_layout()\n",
    "plt.show()\n"
   ]
  },
  {
   "cell_type": "markdown",
   "metadata": {},
   "source": [
    "![](Średnia_temperatura_dla_top10_lokalizacji.png)"
   ]
  },
  {
   "cell_type": "markdown",
   "metadata": {
    "id": "Am1Oji34DU37"
   },
   "source": [
    "Różnice między lokalizacjami są wyraźne — niektóre miejsca są znacznie cieplejsze niż inne, co może mieć związek z położeniem geograficznym i lokalnym klimatem."
   ]
  },
  {
   "cell_type": "markdown",
   "metadata": {
    "id": "BHqPo3HeDdvk"
   },
   "source": [
    "# <mark>**Analiza opisowa**</mark>\n",
    "\n",
    "#### **2-3 analizy opisowe, odnoszące się do pytania badawczego (pytań)** <br> **Każdej analizie powinna towarzyszyć krótka (1-3 zdania) interpretacja**"
   ]
  },
  {
   "cell_type": "markdown",
   "metadata": {
    "id": "R_pFehJhDjqt"
   },
   "source": [
    "**1. analiza opisowa - Jakie czynniki atmosferyczne najbardziej wpływają na wystąpienie deszczu nastepnego dnia (RainTomorrow)?**"
   ]
  },
  {
   "cell_type": "code",
   "execution_count": null,
   "metadata": {
    "id": "08cLnAGgDqA1"
   },
   "outputs": [],
   "source": [
    "import seaborn as sns\n",
    "import matplotlib.pyplot as plt\n",
    "\n",
    "top_features = ['Sunshine', 'Humidity3pm', 'RainToday', 'Humidity9am', 'Rainfall', 'Cloud3pm', 'Pressure9am']\n",
    "\n",
    "# Konfiguracja siatki wykresów: 3 wiersze, 3 kolumny (dostosuj do liczby cech)\n",
    "n_features = len(top_features)\n",
    "cols = 3\n",
    "rows = (n_features + cols - 1) // cols  # zaokrąglenie w górę\n",
    "\n",
    "fig, axes = plt.subplots(rows, cols, figsize=(15, 4 * rows))\n",
    "axes = axes.flatten()\n",
    "\n",
    "# Rysowanie każdego boxplota\n",
    "for i, feature in enumerate(top_features):\n",
    "    sns.boxplot(x='RainTomorrow', y=feature, data=df_imputed, ax=axes[i])\n",
    "    axes[i].set_title(f'{feature} vs RainTomorrow')\n",
    "\n",
    "# Ukrycie pustych subplotów (jeśli niepełna siatka)\n",
    "for j in range(i + 1, len(axes)):\n",
    "    fig.delaxes(axes[j])\n",
    "\n",
    "plt.tight_layout()\n",
    "plt.show()\n"
   ]
  },
  {
   "cell_type": "markdown",
   "metadata": {},
   "source": [
    "![](Boxploty_top_korelujących_cech_z_RainTomorrow.png)"
   ]
  },
  {
   "cell_type": "markdown",
   "metadata": {},
   "source": [
    "Do wcześniej ustalonych cech, które najbardziej korelowały ze zmienną docelową `RainTomorrow`, utworzono boxploty wizualizujące zależności.\n",
    "\n",
    "Najważniejsze wnioski z wykresów:\n",
    "\n",
    "- **RainToday** – bardzo silny predyktor; jeśli dziś padało, jutro również istnieje wysokie prawdopodobieństwo opadów.\n",
    "- **Humidity3pm** – wyższa wilgotność popołudniu istotnie zwiększa szansę na deszcz.\n",
    "- **Sunshine** – im mniej słońca danego dnia, tym większe prawdopodobieństwo opadów następnego dnia.\n",
    "- **Cloud3pm** – duże zachmurzenie po południu sprzyja wystąpieniu deszczu.\n",
    "- **Rainfall** – obecność opadów danego dnia (nawet niewielkich) koreluje z deszczem dnia następnego.\n",
    "- **Pressure9am** – niższe ciśnienie rano związane jest z większą szansą na deszcz (typowy sygnał niżu atmosferycznego).\n",
    "- **Humidity9am** – umiarkowany wpływ; może działać wspomagająco w predykcji.\n",
    "\n",
    "Wizualizacje potwierdzają wyniki analizy korelacji i wspierają wybór tych cech jako istotnych przy budowie modelu predykcyjnego.\n"
   ]
  },
  {
   "cell_type": "markdown",
   "metadata": {
    "id": "w1wOaR-eDwLd"
   },
   "source": [
    "**2. analiza opisowa - Jak zmieniają się warunki pogodowe w zaleźności od lokalizacji (Location) i pory roku (Date)?**"
   ]
  },
  {
   "cell_type": "code",
   "execution_count": null,
   "metadata": {
    "id": "CTwBoOuhD1Un"
   },
   "outputs": [],
   "source": [
    "import matplotlib.pyplot as plt\n",
    "import seaborn as sns\n",
    "\n",
    "# Agregacja: tylko średnie opady w lokalizacjach, posortowane malejąco\n",
    "srednie_opady = df.groupby('Location')['Rainfall'].mean().sort_values(ascending=False)\n",
    "\n",
    "# Wykres słupkowy\n",
    "plt.figure(figsize=(14, 6))\n",
    "sns.barplot(x=srednie_opady.index, y=srednie_opady.values)\n",
    "plt.xticks(rotation=90)\n",
    "plt.title('Średnie opady w lokalizacjach (najwyższe → najniższe)')\n",
    "plt.ylabel('Rainfall [mm]')\n",
    "plt.xlabel('Location')\n",
    "plt.tight_layout()\n",
    "plt.show()\n",
    "\n",
    "\n",
    "# Upewniamy się, że Date to datetime\n",
    "df['Date'] = pd.to_datetime(df['Date'], errors='coerce')\n",
    "\n",
    "# Dodanie kolumny z miesiącem\n",
    "df['Month'] = df['Date'].dt.month\n",
    "\n",
    "# Agregacja: średnie opady i temperatura maksymalna wg miesiąca\n",
    "miesieczne_srednie = df.groupby('Month')[['Rainfall', 'MaxTemp']].mean()\n",
    "\n",
    "# Wykres: średnie opady\n",
    "plt.figure(figsize=(10, 5))\n",
    "sns.lineplot(x=miesieczne_srednie.index, y=miesieczne_srednie['Rainfall'], marker='o')\n",
    "plt.title('Średnie opady deszczu w poszczególnych miesiącach')\n",
    "plt.xlabel('Miesiąc')\n",
    "plt.ylabel('Rainfall [mm]')\n",
    "plt.xticks(ticks=range(1, 13))\n",
    "plt.grid(True)\n",
    "plt.tight_layout()\n",
    "plt.show()\n",
    "\n",
    "# Wykres: średnia temperatura maksymalna\n",
    "plt.figure(figsize=(10, 5))\n",
    "sns.lineplot(x=miesieczne_srednie.index, y=miesieczne_srednie['MaxTemp'], marker='o', color='orange')\n",
    "plt.title('Średnia temperatura maksymalna w poszczególnych miesiącach')\n",
    "plt.xlabel('Miesiąc')\n",
    "plt.ylabel('MaxTemp [°C]')\n",
    "plt.xticks(ticks=range(1, 13))\n",
    "plt.grid(True)\n",
    "plt.tight_layout()\n",
    "plt.show()\n"
   ]
  },
  {
   "cell_type": "markdown",
   "metadata": {},
   "source": [
    "![](Średnie_opady_w_lokalizacjach.png)\n",
    "\n",
    "Widać wyraźne zróżnicowanie opadów w zależności od lokalizacji.  \n",
    "Najwięcej deszczu notuje się w Cairns, Darwin i Coffs Harbour, natomiast najmniej - w Uluru, AliceSprings i Woomera.  \n",
    "Lokalizacje przybrzeżne i tropikalne mają zdecydowanie wyższe średnie opady niż centralne obszary Australii."
   ]
  },
  {
   "cell_type": "markdown",
   "metadata": {},
   "source": [
    "![](Średnie_opady_deszczu_po_miesiącach.png)\n",
    "\n",
    "Temperatura maksymalna osiąga najwyższe wartości w miesiącach letnich (styczeń-luty), a najniższe w zimowych (lipiec).  \n",
    "Wykres dobrze odzwierciedla cykl sezonowy klimatu australijskiego (z odwróconą porą roku względem półkuli północnej)."
   ]
  },
  {
   "cell_type": "markdown",
   "metadata": {},
   "source": [
    "![](Średnia_temperatura_maksymalna_po_miesiącach.png)\n",
    "\n",
    "Największe opady przypadają na luty i czerwiec, natomiast najmniej pada w październiku.  \n",
    "Sezonowość opadów jest zauważalna, ale nie tak regularna jak w przypadku temperatury - może być zależna od regionalnych różnic klimatycznych.\n"
   ]
  },
  {
   "cell_type": "markdown",
   "metadata": {
    "id": "36iJUDUND62B"
   },
   "source": [
    "**3. analiza opisowa - Które zmienne pogodowe najczęsciej występują w dni z ekstremalnymi zjawiskami (np. silne podmuchy wiatru lub duże opady)?**"
   ]
  },
  {
   "cell_type": "code",
   "execution_count": null,
   "metadata": {
    "id": "OioPhIV4D9TP"
   },
   "outputs": [],
   "source": [
    "# --- 1. Ustalenie progów ekstremalnych zjawisk ---\n",
    "rain_threshold = df_imputed['Rainfall'].quantile(0.95)\n",
    "wind_threshold = df_imputed['WindGustSpeed'].quantile(0.95)\n",
    "\n",
    "# --- 2. Filtrowanie dni ekstremalnych ---\n",
    "extreme_days = df_imputed[(df_imputed['Rainfall'] > rain_threshold) | \n",
    "                          (df_imputed['WindGustSpeed'] > wind_threshold)]\n",
    "\n",
    "# --- 3. Wybór zmiennych pogodowych do porównania ---\n",
    "features = ['Humidity3pm', 'Humidity9am', 'Sunshine', 'Cloud3pm', 'Pressure3pm',\n",
    "            'Pressure9am', 'MinTemp', 'MaxTemp', 'WindSpeed3pm', 'WindSpeed9am']\n",
    "\n",
    "# --- 4. Obliczenie średnich wartości ---\n",
    "extreme_means = extreme_days[features].mean()\n",
    "normal_means = df_imputed[~df_imputed.index.isin(extreme_days.index)][features].mean()\n",
    "\n",
    "# --- 5. Tabela porównawcza ---\n",
    "comparison_df = pd.DataFrame({\n",
    "    'Średnia (ekstremalne dni)': extreme_means,\n",
    "    'Średnia (normalne dni)': normal_means,\n",
    "    'Różnica': extreme_means - normal_means\n",
    "}).sort_values(by='Różnica', ascending=False)\n",
    "\n",
    "plt.figure(figsize=(12, 6))\n",
    "comparison_df['Różnica'].sort_values().plot(kind='barh', color='orange')\n",
    "plt.axvline(0, color='gray', linestyle='--')  # linia odniesienia dla 0\n",
    "plt.title('Różnice średnich wartości cech w dniach ekstremalnych vs normalnych')\n",
    "plt.xlabel('Różnica wartości (ekstremalne - normalne)')\n",
    "plt.tight_layout()\n",
    "plt.show()\n"
   ]
  },
  {
   "cell_type": "markdown",
   "metadata": {},
   "source": [
    "![](Różnice_w_dniach_ekstremalnych.png)"
   ]
  },
  {
   "cell_type": "markdown",
   "metadata": {
    "id": "3NmBaRJoD-_C"
   },
   "source": [
    "Na podstawie wykresu różnic średnich wartości cech między dniami ekstremalnymi (silny wiatr lub duże opady) a dniami normalnymi, można zauważyć:\n",
    "\n",
    "- **Większe wartości**: `Humidity3pm`, `Humidity9am`, `WindSpeed3pm`, `WindSpeed9am` — warunki typowe dla niestabilnej, wilgotnej atmosfery i intensywnego ruchu powietrza.\n",
    "- **Niższe wartości**: `Pressure9am`, `Pressure3pm`, `Sunshine`, `MaxTemp` — spadek ciśnienia i ograniczenie nasłonecznienia, co sprzyja występowaniu burz.\n",
    "\n",
    "Wniosek: ekstremalne zjawiska pogodowe zachodzą głównie przy wysokiej wilgotności, silnym wietrze i niskim ciśnieniu.\n"
   ]
  },
  {
   "cell_type": "markdown",
   "metadata": {
    "id": "phj-8Y8FVgoU"
   },
   "source": [
    "# <mark>**Wnioski**</mark>\n",
    "\n",
    "* Najsilniejsze zależności z RainTomorrow wykazały zmienne: Sunshine, RainToday, Humidity3pm oraz Cloud 3pm.  \n",
    "* Boxploty potwierdziły, że deszcz jest bardziej prawdopodobny przy dużej wilgotności, niskim nasłonecznieniu i wcześniejszych opadach.  \n",
    "* Dane zawierały liczne braki, szczgólnie w Sunshine, Evaporation i Cloud3pm, które uzupełniono z wykorzystaniem mody i mediany lokalnej.\n",
    "* Zależności pomiędzy zmiennymi po imputacji pozostały w większości stabilne, jednak część cech wykazała pogorszenie korelacji, co sugeruje, aby  \n",
    "  uzupełnienie tych kolumn zostało wykonane bardziej złożonymi metodami.  \n",
    "* Analiza sezonowa wykazała, że latem temperatury są najwyższe, a opady najbardziej zróżnicowane. Ponadto potwierdzono, że warunki pogodowe różnią się  \n",
    "  dla poszczególnych lokalizacji.  \n",
    "* Dni z ekstremalnymi zjawiskami pogodowymi (silny wiatr, intensywne opadu) cechują się wyższą wilgotnością, a niższym ciśnieniem.  \n",
    "* Wnioski z wykonanej analizy są spójne z rzeczywistymi zjawiskami meteorologicznymi.\n"
   ]
  }
 ],
 "metadata": {
  "colab": {
   "authorship_tag": "ABX9TyOO4EsyIgXpHUjHgL3b2uNf",
   "provenance": []
  },
  "kernelspec": {
   "display_name": "pg25",
   "language": "python",
   "name": "python3"
  },
  "language_info": {
   "codemirror_mode": {
    "name": "ipython",
    "version": 3
   },
   "file_extension": ".py",
   "mimetype": "text/x-python",
   "name": "python",
   "nbconvert_exporter": "python",
   "pygments_lexer": "ipython3",
   "version": "3.13.2"
  }
 },
 "nbformat": 4,
 "nbformat_minor": 0
}
